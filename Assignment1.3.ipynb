{
 "cells": [
  {
   "cell_type": "code",
   "execution_count": 25,
   "metadata": {},
   "outputs": [
    {
     "name": "stdout",
     "output_type": "stream",
     "text": [
      "Provide first name :mamata\n",
      "Provide last name :nayak\n",
      "Full Name is : mamata nayak\n",
      "['k', 'a', 'y', 'a', 'n', ' ', 'a', 't', 'a', 'm', 'a', 'm']\n",
      "Reversed Name :kayan atamam\n"
     ]
    }
   ],
   "source": [
    "\"\"\"Write a Python program to accept the user's first and last name and then getting them\n",
    "printed in the the reverse order with a space between first name and last name.\"\"\"\n",
    "firstname = input(\"Provide first name :\")\n",
    "lastname = input(\"Provide last name :\")\n",
    "fullName = firstname + \" \" +lastname\n",
    "print(\"Full Name is : \"+fullName)\n",
    "#print(firstname + \" \" + lastname)\n",
    "strLen = len(fullName)\n",
    "#print(strLen)\n",
    "i=strLen-1\n",
    "revName= list()\n",
    "while i>=0 :\n",
    "    revName.append(fullName[i])\n",
    "    i=i-1\n",
    "print(revName)\n",
    "#join is s string method to return a string concatenated with the elements of an iterable\n",
    "print(\"Reversed Name :\" +\"\".join(revName))\n"
   ]
  },
  {
   "cell_type": "code",
   "execution_count": null,
   "metadata": {},
   "outputs": [],
   "source": []
  },
  {
   "cell_type": "code",
   "execution_count": null,
   "metadata": {},
   "outputs": [],
   "source": []
  }
 ],
 "metadata": {
  "kernelspec": {
   "display_name": "Python 3",
   "language": "python",
   "name": "python3"
  },
  "language_info": {
   "codemirror_mode": {
    "name": "ipython",
    "version": 3
   },
   "file_extension": ".py",
   "mimetype": "text/x-python",
   "name": "python",
   "nbconvert_exporter": "python",
   "pygments_lexer": "ipython3",
   "version": "3.6.4"
  }
 },
 "nbformat": 4,
 "nbformat_minor": 2
}
